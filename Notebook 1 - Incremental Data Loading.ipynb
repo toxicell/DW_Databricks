{
 "cells": [
  {
   "cell_type": "markdown",
   "metadata": {
    "application/vnd.databricks.v1+cell": {
     "cellMetadata": {},
     "inputWidgets": {},
     "nuid": "cc2d6e03-cf43-4dda-aec7-c9e44ca9a492",
     "showTitle": false,
     "tableResultSettingsMap": {},
     "title": ""
    }
   },
   "source": [
    "### INCREMENTAL DATA LOADING "
   ]
  },
  {
   "cell_type": "code",
   "execution_count": 0,
   "metadata": {
    "application/vnd.databricks.v1+cell": {
     "cellMetadata": {},
     "inputWidgets": {},
     "nuid": "73738a6e-b8df-47cf-ad2f-d826d36b0109",
     "showTitle": false,
     "tableResultSettingsMap": {},
     "title": ""
    }
   },
   "outputs": [],
   "source": [
    "CREATE DATABASE Sales"
   ]
  },
  {
   "cell_type": "code",
   "execution_count": 0,
   "metadata": {
    "application/vnd.databricks.v1+cell": {
     "cellMetadata": {
      "byteLimit": 2048000,
      "rowLimit": 10000
     },
     "inputWidgets": {},
     "nuid": "f222d2d8-948b-46fa-a87d-5f72cefc4818",
     "showTitle": false,
     "tableResultSettingsMap": {},
     "title": ""
    }
   },
   "outputs": [],
   "source": [
    "-- Create the table (same as your original code)\n",
    "CREATE TABLE sales.Orders (\n",
    "    OrderID INT,\n",
    "    OrderDate DATE,\n",
    "    CustomerID INT,\n",
    "    CustomerName VARCHAR(100),\n",
    "    CustomerEmail VARCHAR(100),\n",
    "    ProductID INT,\n",
    "    ProductName VARCHAR(100),\n",
    "    ProductCategory VARCHAR(50),\n",
    "    RegionID INT,\n",
    "    RegionName VARCHAR(50),\n",
    "    Country VARCHAR(50),\n",
    "    Quantity INT,\n",
    "    UnitPrice DECIMAL(10,2),\n",
    "    TotalAmount DECIMAL(10,2)\n",
    ");\n",
    "\n"
   ]
  },
  {
   "cell_type": "code",
   "execution_count": 0,
   "metadata": {
    "application/vnd.databricks.v1+cell": {
     "cellMetadata": {
      "byteLimit": 2048000,
      "rowLimit": 10000
     },
     "inputWidgets": {},
     "nuid": "34b02465-6d83-4920-801a-ecb0ca94cefe",
     "showTitle": false,
     "tableResultSettingsMap": {},
     "title": ""
    }
   },
   "outputs": [],
   "source": [
    "-- Insert sample data\n",
    "INSERT INTO sales.Orders VALUES\n",
    "(1001, '2023-01-15', 101, 'John Smith', 'john.smith@email.com', 201, 'Wireless Headphones', 'Electronics', 1, 'North', 'USA', 2, 99.99, 199.98),\n",
    "(1002, '2023-01-16', 102, 'Emily Johnson', 'emily.j@email.com', 202, 'Bluetooth Speaker', 'Electronics', 2, 'South', 'USA', 1, 79.99, 79.99),\n",
    "(1003, '2023-01-17', 103, 'Michael Brown', 'michael.b@email.com', 203, 'Coffee Maker', 'Home Appliances', 3, 'East', 'Canada', 1, 129.99, 129.99),\n",
    "(1004, '2023-01-18', 104, 'Sarah Davis', 'sarah.d@email.com', 204, 'Yoga Mat', 'Fitness', 4, 'West', 'USA', 3, 29.99, 89.97),\n",
    "(1005, '2023-01-19', 105, 'Robert Wilson', 'robert.w@email.com', 205, 'Smart Watch', 'Electronics', 1, 'North', 'USA', 1, 199.99, 199.99),\n",
    "(1006, '2023-01-20', 101, 'John Smith', 'john.smith@email.com', 206, 'Desk Lamp', 'Home', 2, 'South', 'USA', 2, 49.99, 99.98),\n",
    "(1007, '2023-01-21', 106, 'Jennifer Lee', 'jennifer.l@email.com', 207, 'Backpack', 'Accessories', 3, 'East', 'Canada', 1, 59.99, 59.99),\n",
    "(1008, '2023-01-22', 107, 'David Miller', 'david.m@email.com', 208, 'Water Bottle', 'Fitness', 4, 'West', 'USA', 4, 14.99, 59.96),\n",
    "(1009, '2023-01-23', 108, 'Lisa Taylor', 'lisa.t@email.com', 209, 'Notebook', 'Office', 1, 'North', 'USA', 5, 9.99, 49.95),\n",
    "(1010, '2023-01-24', 102, 'Emily Johnson', 'emily.j@email.com', 210, 'Phone Case', 'Accessories', 2, 'South', 'USA', 2, 19.99, 39.98);"
   ]
  },
  {
   "cell_type": "markdown",
   "metadata": {
    "application/vnd.databricks.v1+cell": {
     "cellMetadata": {},
     "inputWidgets": {},
     "nuid": "e0bd83f1-b9d6-473f-a245-c3718add6b27",
     "showTitle": false,
     "tableResultSettingsMap": {},
     "title": ""
    }
   },
   "source": [
    "### DATA WAREHOUSING"
   ]
  },
  {
   "cell_type": "code",
   "execution_count": 0,
   "metadata": {
    "application/vnd.databricks.v1+cell": {
     "cellMetadata": {
      "byteLimit": 2048000,
      "rowLimit": 10000
     },
     "inputWidgets": {},
     "nuid": "f799ffc7-4e24-4cd5-9e48-2bca01b5b9c6",
     "showTitle": false,
     "tableResultSettingsMap": {},
     "title": ""
    }
   },
   "outputs": [],
   "source": [
    "CREATE DATABASE orderDWH"
   ]
  },
  {
   "cell_type": "markdown",
   "metadata": {
    "application/vnd.databricks.v1+cell": {
     "cellMetadata": {},
     "inputWidgets": {},
     "nuid": "46d718e6-6aba-408b-b833-81730ceb797a",
     "showTitle": false,
     "tableResultSettingsMap": {},
     "title": ""
    }
   },
   "source": [
    "## STAGING LAYER "
   ]
  },
  {
   "cell_type": "code",
   "execution_count": 0,
   "metadata": {
    "application/vnd.databricks.v1+cell": {
     "cellMetadata": {
      "byteLimit": 2048000,
      "rowLimit": 10000
     },
     "inputWidgets": {},
     "nuid": "d0cb6718-e99d-49ee-86ae-1e93ff9f6985",
     "showTitle": false,
     "tableResultSettingsMap": {},
     "title": ""
    }
   },
   "outputs": [],
   "source": [
    "CREATE OR REPLACE TABLE orderDWH.stg_sales\n",
    "as \n",
    "SELECT * FROM sales.Orders"
   ]
  },
  {
   "cell_type": "code",
   "execution_count": 0,
   "metadata": {
    "application/vnd.databricks.v1+cell": {
     "cellMetadata": {
      "byteLimit": 2048000,
      "rowLimit": 10000
     },
     "inputWidgets": {},
     "nuid": "5140a53b-e99b-4d99-8c1b-13373e4a7c7e",
     "showTitle": false,
     "tableResultSettingsMap": {},
     "title": ""
    }
   },
   "outputs": [],
   "source": [
    "SELECT * FROM orderDWH.stg_sales"
   ]
  },
  {
   "cell_type": "markdown",
   "metadata": {
    "application/vnd.databricks.v1+cell": {
     "cellMetadata": {},
     "inputWidgets": {},
     "nuid": "b95a90c3-7c96-4200-81c6-51e3d4b4d8d4",
     "showTitle": false,
     "tableResultSettingsMap": {},
     "title": ""
    }
   },
   "source": [
    "### TRANSFORMATION"
   ]
  },
  {
   "cell_type": "code",
   "execution_count": 0,
   "metadata": {
    "application/vnd.databricks.v1+cell": {
     "cellMetadata": {
      "byteLimit": 2048000,
      "rowLimit": 10000
     },
     "inputWidgets": {},
     "nuid": "d04d48ab-7409-4312-8761-cc47b219abf1",
     "showTitle": false,
     "tableResultSettingsMap": {},
     "title": ""
    }
   },
   "outputs": [],
   "source": [
    "CREATE VIEW  orderDWH.v_trans_sales\n",
    "AS\n",
    "SELECT * FROM orderDWH.stg_sales WHERE Quantity > 1\n"
   ]
  },
  {
   "cell_type": "markdown",
   "metadata": {
    "application/vnd.databricks.v1+cell": {
     "cellMetadata": {},
     "inputWidgets": {},
     "nuid": "09a345c7-2c3c-46ae-8d49-f4d6ec977604",
     "showTitle": false,
     "tableResultSettingsMap": {},
     "title": ""
    }
   },
   "source": [
    "### CORE LAYER"
   ]
  },
  {
   "cell_type": "code",
   "execution_count": 0,
   "metadata": {
    "application/vnd.databricks.v1+cell": {
     "cellMetadata": {
      "byteLimit": 2048000,
      "rowLimit": 10000
     },
     "inputWidgets": {},
     "nuid": "50779986-7e96-4ff7-9869-3e5e7759a953",
     "showTitle": false,
     "tableResultSettingsMap": {},
     "title": ""
    }
   },
   "outputs": [],
   "source": [
    "select * from orderDWH.v_trans_sales;\n"
   ]
  },
  {
   "cell_type": "markdown",
   "metadata": {
    "application/vnd.databricks.v1+cell": {
     "cellMetadata": {},
     "inputWidgets": {},
     "nuid": "31c803c6-be09-42c8-946e-f3098ccb7513",
     "showTitle": false,
     "tableResultSettingsMap": {},
     "title": ""
    }
   },
   "source": [
    "### **Creating customer dimension **DimCustomer****"
   ]
  },
  {
   "cell_type": "code",
   "execution_count": 0,
   "metadata": {
    "application/vnd.databricks.v1+cell": {
     "cellMetadata": {
      "byteLimit": 2048000,
      "rowLimit": 10000
     },
     "inputWidgets": {},
     "nuid": "f307785e-8d87-43c5-a5fe-e46d80fdf5ab",
     "showTitle": false,
     "tableResultSettingsMap": {},
     "title": ""
    }
   },
   "outputs": [],
   "source": [
    "CREATE or replace TABLE orderDWH.DimCustomers(\n",
    "  CustomerID int,\n",
    "  CustomerName STRING,\n",
    "  CustomerEmail STRING,\n",
    "  DimCustomerKey INT\n",
    ")"
   ]
  },
  {
   "cell_type": "code",
   "execution_count": 0,
   "metadata": {
    "application/vnd.databricks.v1+cell": {
     "cellMetadata": {
      "byteLimit": 2048000,
      "rowLimit": 10000
     },
     "inputWidgets": {},
     "nuid": "66763562-b928-4b74-afe3-715232039cae",
     "showTitle": false,
     "tableResultSettingsMap": {},
     "title": ""
    }
   },
   "outputs": [],
   "source": [
    "create or replace view orderDWH.v_dim_customers\n",
    "as \n",
    "select *,row_number() over (order by CustomerID) as DimCustomerKey from (select \n",
    "    Distinct(CustomerID) as CustomerID,\n",
    "    CustomerName,\n",
    "    CustomerEmail\n",
    "FROM orderDWH.v_trans_sales) \n"
   ]
  },
  {
   "cell_type": "code",
   "execution_count": 0,
   "metadata": {
    "application/vnd.databricks.v1+cell": {
     "cellMetadata": {
      "byteLimit": 2048000,
      "rowLimit": 10000
     },
     "inputWidgets": {},
     "nuid": "4e9bef60-62fb-4748-a2e9-2e7a6578fb12",
     "showTitle": false,
     "tableResultSettingsMap": {},
     "title": ""
    }
   },
   "outputs": [],
   "source": [
    "insert into table orderdwh.dimcustomers\n",
    "select * from orderDWH.v_dim_customers"
   ]
  },
  {
   "cell_type": "code",
   "execution_count": 0,
   "metadata": {
    "application/vnd.databricks.v1+cell": {
     "cellMetadata": {
      "byteLimit": 2048000,
      "rowLimit": 10000
     },
     "inputWidgets": {},
     "nuid": "791eb930-de25-4f67-8ab5-fe842db5d1b7",
     "showTitle": false,
     "tableResultSettingsMap": {},
     "title": ""
    }
   },
   "outputs": [],
   "source": [
    "select * from orderDWH.DimCustomers"
   ]
  },
  {
   "cell_type": "markdown",
   "metadata": {
    "application/vnd.databricks.v1+cell": {
     "cellMetadata": {},
     "inputWidgets": {},
     "nuid": "c61622c0-d4c1-48c6-a57c-a8d5e79e4bd6",
     "showTitle": false,
     "tableResultSettingsMap": {},
     "title": ""
    }
   },
   "source": [
    "### Creating product dimension DimProduct"
   ]
  },
  {
   "cell_type": "code",
   "execution_count": 0,
   "metadata": {
    "application/vnd.databricks.v1+cell": {
     "cellMetadata": {
      "byteLimit": 2048000,
      "rowLimit": 10000
     },
     "inputWidgets": {},
     "nuid": "664f42ee-2360-4b2b-9f85-b35c49e54b8c",
     "showTitle": false,
     "tableResultSettingsMap": {},
     "title": ""
    }
   },
   "outputs": [],
   "source": [
    "select * from orderDWH.v_trans_sales;"
   ]
  },
  {
   "cell_type": "code",
   "execution_count": 0,
   "metadata": {
    "application/vnd.databricks.v1+cell": {
     "cellMetadata": {
      "byteLimit": 2048000,
      "rowLimit": 10000
     },
     "inputWidgets": {},
     "nuid": "23396d72-8303-47b1-9748-f86bde52df1f",
     "showTitle": false,
     "tableResultSettingsMap": {},
     "title": ""
    }
   },
   "outputs": [],
   "source": [
    "create view v_dim_products\n",
    "as \n",
    "select * ,row_number() over (order by ProductID) as DimProductKey from\n",
    "(SELECT \n",
    "  Distinct(ProductID) as ProductID,\n",
    "  ProductName,\n",
    "  ProductCategory\n",
    "FROM orderdwh.v_trans_sales )\n"
   ]
  },
  {
   "cell_type": "code",
   "execution_count": 0,
   "metadata": {
    "application/vnd.databricks.v1+cell": {
     "cellMetadata": {
      "byteLimit": 2048000,
      "rowLimit": 10000
     },
     "inputWidgets": {},
     "nuid": "c03fceb2-c0ef-41f4-bacb-e0d533872135",
     "showTitle": false,
     "tableResultSettingsMap": {},
     "title": ""
    }
   },
   "outputs": [],
   "source": [
    "select * from v_dim_products"
   ]
  },
  {
   "cell_type": "code",
   "execution_count": 0,
   "metadata": {
    "application/vnd.databricks.v1+cell": {
     "cellMetadata": {
      "byteLimit": 2048000,
      "rowLimit": 10000
     },
     "inputWidgets": {},
     "nuid": "af733fe8-50b8-4544-8c2f-b138d479b5da",
     "showTitle": false,
     "tableResultSettingsMap": {},
     "title": ""
    }
   },
   "outputs": [],
   "source": [
    "create or replace table orderdwh.DimProducts(\n",
    "  ProductID int,\n",
    "  ProductName string,\n",
    "  ProductCategory string,\n",
    "   DimProductKey int\n",
    ")"
   ]
  },
  {
   "cell_type": "code",
   "execution_count": 0,
   "metadata": {
    "application/vnd.databricks.v1+cell": {
     "cellMetadata": {
      "byteLimit": 2048000,
      "rowLimit": 10000
     },
     "inputWidgets": {},
     "nuid": "4df6fafc-8d80-4c2e-ae86-fcbd705ad604",
     "showTitle": false,
     "tableResultSettingsMap": {},
     "title": ""
    }
   },
   "outputs": [],
   "source": [
    "insert into table orderdwh.dimproducts\n",
    "select * from v_dim_products"
   ]
  },
  {
   "cell_type": "markdown",
   "metadata": {
    "application/vnd.databricks.v1+cell": {
     "cellMetadata": {},
     "inputWidgets": {},
     "nuid": "da130173-d326-4b84-a51f-0456279e24c2",
     "showTitle": false,
     "tableResultSettingsMap": {},
     "title": ""
    }
   },
   "source": [
    "### Creating Region Dimension DimRegion"
   ]
  },
  {
   "cell_type": "code",
   "execution_count": 0,
   "metadata": {
    "application/vnd.databricks.v1+cell": {
     "cellMetadata": {
      "byteLimit": 2048000,
      "rowLimit": 10000
     },
     "inputWidgets": {},
     "nuid": "ed49e3c5-de8a-4cdd-86d3-914d70b684cb",
     "showTitle": false,
     "tableResultSettingsMap": {},
     "title": ""
    }
   },
   "outputs": [],
   "source": [
    "create or replace view v_dim_regions\n",
    "as \n",
    "select * ,row_number() over (order by RegionID) as DimRegionKey from\n",
    "(SELECT \n",
    "  Distinct(RegionID) as RegionID,\n",
    "  RegionName,\n",
    "  Country\n",
    "FROM orderdwh.v_trans_sales )\n"
   ]
  },
  {
   "cell_type": "code",
   "execution_count": 0,
   "metadata": {
    "application/vnd.databricks.v1+cell": {
     "cellMetadata": {
      "byteLimit": 2048000,
      "rowLimit": 10000
     },
     "inputWidgets": {},
     "nuid": "f9820b5b-608b-44e7-b9a9-1e49e632e874",
     "showTitle": false,
     "tableResultSettingsMap": {},
     "title": ""
    }
   },
   "outputs": [],
   "source": [
    "select * from v_dim_regions\n"
   ]
  },
  {
   "cell_type": "code",
   "execution_count": 0,
   "metadata": {
    "application/vnd.databricks.v1+cell": {
     "cellMetadata": {
      "byteLimit": 2048000,
      "rowLimit": 10000
     },
     "inputWidgets": {},
     "nuid": "fdfd4b39-5cfe-40f4-98f4-ac1d337f7517",
     "showTitle": false,
     "tableResultSettingsMap": {},
     "title": ""
    }
   },
   "outputs": [],
   "source": [
    "create or replace table orderdwh.DimRegions(\n",
    "  RegionID int,\n",
    "  RegionName string,\n",
    "  Country string,\n",
    "   DimRegionKey int\n",
    ")\n"
   ]
  },
  {
   "cell_type": "code",
   "execution_count": 0,
   "metadata": {
    "application/vnd.databricks.v1+cell": {
     "cellMetadata": {
      "byteLimit": 2048000,
      "rowLimit": 10000
     },
     "inputWidgets": {},
     "nuid": "e2135776-620e-4c36-bacb-3bb773d21410",
     "showTitle": false,
     "tableResultSettingsMap": {},
     "title": ""
    }
   },
   "outputs": [],
   "source": [
    "insert into table orderdwh.dimregions\n",
    "select * from v_dim_regions"
   ]
  },
  {
   "cell_type": "markdown",
   "metadata": {
    "application/vnd.databricks.v1+cell": {
     "cellMetadata": {},
     "inputWidgets": {},
     "nuid": "ea35f371-8067-463b-ad4b-2a36df7fb9f7",
     "showTitle": false,
     "tableResultSettingsMap": {},
     "title": ""
    }
   },
   "source": [
    "###  Creating ORDER DATE dimension DimDate"
   ]
  },
  {
   "cell_type": "code",
   "execution_count": 0,
   "metadata": {
    "application/vnd.databricks.v1+cell": {
     "cellMetadata": {
      "byteLimit": 2048000,
      "rowLimit": 10000
     },
     "inputWidgets": {},
     "nuid": "60376cd2-5b99-4682-9ce0-e82463abac16",
     "showTitle": false,
     "tableResultSettingsMap": {},
     "title": ""
    }
   },
   "outputs": [],
   "source": [
    "create or replace table orderdwh.DimDate(\n",
    " OrderDate date,\n",
    " DimOrderDateKey int\n",
    ")"
   ]
  },
  {
   "cell_type": "code",
   "execution_count": 0,
   "metadata": {
    "application/vnd.databricks.v1+cell": {
     "cellMetadata": {
      "byteLimit": 2048000,
      "rowLimit": 10000
     },
     "inputWidgets": {},
     "nuid": "3ee399be-ef17-42fb-9908-0dba98e6e985",
     "showTitle": false,
     "tableResultSettingsMap": {},
     "title": ""
    }
   },
   "outputs": [],
   "source": [
    "create or replace view v_dim_dates\n",
    "as \n",
    "select * ,row_number() over (order by OrderDate) as DimOrderDateKey from\n",
    "(SELECT \n",
    "  Distinct(OrderDate) as OrderDate\n",
    "FROM orderdwh.v_trans_sales )"
   ]
  },
  {
   "cell_type": "code",
   "execution_count": 0,
   "metadata": {
    "application/vnd.databricks.v1+cell": {
     "cellMetadata": {
      "byteLimit": 2048000,
      "rowLimit": 10000
     },
     "inputWidgets": {},
     "nuid": "02511a9a-80a3-4f1e-b232-b67e847f318e",
     "showTitle": false,
     "tableResultSettingsMap": {},
     "title": ""
    }
   },
   "outputs": [],
   "source": [
    "insert into table orderdwh.dimdate\n",
    "select * from v_dim_dates"
   ]
  },
  {
   "cell_type": "code",
   "execution_count": 0,
   "metadata": {
    "application/vnd.databricks.v1+cell": {
     "cellMetadata": {
      "byteLimit": 2048000,
      "rowLimit": 10000
     },
     "inputWidgets": {},
     "nuid": "ea067875-b50f-4b7c-9d2a-3422f23079c3",
     "showTitle": false,
     "tableResultSettingsMap": {},
     "title": ""
    }
   },
   "outputs": [],
   "source": [
    "select * from v_dim_dates\n"
   ]
  },
  {
   "cell_type": "markdown",
   "metadata": {
    "application/vnd.databricks.v1+cell": {
     "cellMetadata": {},
     "inputWidgets": {},
     "nuid": "0d13e3b2-a5cf-4af6-ba89-612f648a878b",
     "showTitle": false,
     "tableResultSettingsMap": {},
     "title": ""
    }
   },
   "source": [
    "### FACT TABLE\n"
   ]
  },
  {
   "cell_type": "code",
   "execution_count": 0,
   "metadata": {
    "application/vnd.databricks.v1+cell": {
     "cellMetadata": {
      "byteLimit": 2048000,
      "rowLimit": 10000
     },
     "inputWidgets": {},
     "nuid": "46d13345-ff83-4108-80a3-afe1201557c6",
     "showTitle": false,
     "tableResultSettingsMap": {},
     "title": ""
    }
   },
   "outputs": [],
   "source": [
    "CREATE TABLE orderdwh.FactSales\n",
    "(\n",
    "  OrderID INT,\n",
    "  Quantity INT,\n",
    "  UnitPrice INT,\n",
    "  TotalAmount INT,\n",
    "  DimProductKey INT,\n",
    "  DimCustomerKey INT,\n",
    "  DimRegionKey INT,\n",
    "  DimOrderDateKey INT\n",
    "  )"
   ]
  },
  {
   "cell_type": "code",
   "execution_count": 0,
   "metadata": {
    "application/vnd.databricks.v1+cell": {
     "cellMetadata": {
      "byteLimit": 2048000,
      "rowLimit": 10000
     },
     "inputWidgets": {},
     "nuid": "a5daab2c-c27d-4968-b177-516dbbaa991a",
     "showTitle": false,
     "tableResultSettingsMap": {},
     "title": ""
    }
   },
   "outputs": [],
   "source": [
    "SELECT \n",
    "  F.OrderID,\n",
    "  F.Quantity,\n",
    "  F.UnitPrice,\n",
    "  F.TotalAmount,\n",
    "  C.DimCustomerKey,\n",
    "  P.DimProductKey,\n",
    "  R.DimRegionKey,\n",
    "  D.DimOrderDateKey\n",
    "From\n",
    "  orderdwh.v_trans_sales F\n",
    "LEFT JOIN\n",
    "  orderdwh.dimCustomers C\n",
    "ON\n",
    " F.CustomerID = C.CustomerID\n",
    "LEFT JOIN\n",
    "  orderdwh.DimProducts P\n",
    "ON\n",
    " F.ProductID = P.ProductID\n",
    "LEFT JOIN\n",
    "  orderdwh.DimRegions R\n",
    "ON\n",
    " F.RegionID = R.RegionID\n",
    "LEFT JOIN\n",
    "  orderdwh.DimDate D\n",
    "ON\n",
    " F.OrderDate = D.OrderDate\n",
    "  "
   ]
  },
  {
   "cell_type": "code",
   "execution_count": 0,
   "metadata": {
    "application/vnd.databricks.v1+cell": {
     "cellMetadata": {
      "byteLimit": 2048000,
      "rowLimit": 10000
     },
     "inputWidgets": {},
     "nuid": "6196271d-2034-4049-8c6a-8a8159d75d9b",
     "showTitle": false,
     "tableResultSettingsMap": {},
     "title": ""
    }
   },
   "outputs": [],
   "source": [
    "select * from orderdwh.dimregions"
   ]
  },
  {
   "cell_type": "code",
   "execution_count": 0,
   "metadata": {
    "application/vnd.databricks.v1+cell": {
     "cellMetadata": {},
     "inputWidgets": {},
     "nuid": "58ba446e-cf14-4a26-a8cf-f29f8bca398c",
     "showTitle": false,
     "tableResultSettingsMap": {},
     "title": ""
    }
   },
   "outputs": [],
   "source": []
  }
 ],
 "metadata": {
  "application/vnd.databricks.v1+notebook": {
   "computePreferences": null,
   "dashboards": [],
   "environmentMetadata": {
    "base_environment": "",
    "environment_version": "2"
   },
   "inputWidgetPreferences": null,
   "language": "sql",
   "notebookMetadata": {
    "pythonIndentUnit": 4
   },
   "notebookName": "Notebook 1 - Incremental Data Loading",
   "widgets": {}
  },
  "language_info": {
   "name": "sql"
  }
 },
 "nbformat": 4,
 "nbformat_minor": 0
}
